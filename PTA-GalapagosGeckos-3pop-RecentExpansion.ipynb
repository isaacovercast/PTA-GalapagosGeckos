{
 "cells": [
  {
   "cell_type": "code",
   "execution_count": 2,
   "id": "ed39e37f",
   "metadata": {},
   "outputs": [
    {
     "name": "stdout",
     "output_type": "stream",
     "text": [
      "The autoreload extension is already loaded. To reload it, use:\n",
      "  %reload_ext autoreload\n",
      "45\n"
     ]
    }
   ],
   "source": [
    "%load_ext autoreload\n",
    "%autoreload 2\n",
    "%matplotlib inline\n",
    "\n",
    "import glob\n",
    "import ipyparallel as ipp\n",
    "import matplotlib.pyplot as plt\n",
    "import os\n",
    "import pandas as pd\n",
    "import PTA\n",
    "\n",
    "from IPython.display import display\n",
    "\n",
    "pd.set_option('display.max_columns', None)\n",
    "\n",
    "ipyclient = ipp.Client(cluster_id=\"PTA\")\n",
    "print(len(ipyclient))"
   ]
  },
  {
   "cell_type": "code",
   "execution_count": 33,
   "id": "146178b7",
   "metadata": {},
   "outputs": [],
   "source": [
    "!rm analysis/simulations/Gecko-3pops-recent-SIMOUT.csv"
   ]
  },
  {
   "cell_type": "code",
   "execution_count": 3,
   "id": "f4e4da39",
   "metadata": {},
   "outputs": [
    {
     "name": "stdout",
     "output_type": "stream",
     "text": [
      "------- PTA params - DemographicModel - (v.0.0.11) -----------------------------\n",
      "Gecko-3pops-recent   ## [0] [simulation_name]: The name of this simulation scenario\n",
      "/home/isaac/proj/Islands2030/PTA-GalapagosGeckos/analysis/simulations ## [1] [project_dir]: Where to save files\n",
      "3                    ## [2] [npops]: Number of populations undergoing co-demographic processes\n",
      "8                    ## [3] [nsamps]: Numbers of samples for each populations\n",
      "200000-550000        ## [4] [N_e]: Effective population size of the contemporary population\n",
      "10000-100000         ## [5] [tau]: Time of demographic change\n",
      "0.1                  ## [6] [epsilon]: Magnitude of demographic change\n",
      "0.0                  ## [7] [zeta]: Proportion of coexpanding taxa. Default will sample U~(0, 1)\n",
      "300                  ## [8] [length]: Length in bp of each independent genomic region to simulate\n",
      "1000,1000,1000       ## [9] [num_replicates]: Number of genomic regions to simulate\n",
      "1                    ## [10] [generation_time]: Generation time in years\n",
      "0.0                  ## [11] [recoms_per_gen]: Recombination rate within independent regions scaled per base per generation\n",
      "2.2e-09              ## [12] [muts_per_gen]: Mutation rate scaled per base per generation\n",
      "\n",
      "    Generating 50000 simulation(s).\n",
      "  [####################] 100%  Finished 50000 simulations in   0:24:29\n",
      " "
     ]
    }
   ],
   "source": [
    "model = PTA.DemographicModel(\"Gecko-3pops-recent\")\n",
    "model.set_param(\"project_dir\", \"analysis/simulations\")\n",
    "model.set_param(\"npops\", 3)\n",
    "model.set_param(\"nsamps\", 8)\n",
    "# Contemporary Ne from stairway plots\n",
    "model.set_param(\"N_e\", \"2e5-5.5e5\")\n",
    "model.set_param(\"tau\", \"1e4-1e5\")\n",
    "model.set_param(\"epsilon\", \"0.1\")\n",
    "model.set_param(\"zeta\", 0)\n",
    "model.set_param(\"length\", \"300\")\n",
    "#computationally impractical to simulate 2e4 loci for 20 pops, but this is how you'd do it.\n",
    "#model.set_param(\"num_replicates\", [nloci_dict[x] for x in expanding_pops])\n",
    "model.set_param(\"num_replicates\", 1000)\n",
    "model.set_param(\"recoms_per_gen\", 0)\n",
    "# Mut rate from manuscript, following Harrington et al 2018\n",
    "model.set_param(\"muts_per_gen\", 2.2e-9)\n",
    "print(model.get_params())\n",
    "\n",
    "model._hackersonly[\"sorted_sfs\"] = True\n",
    "model._hackersonly[\"proportional_msfs\"] = True\n",
    "model._hackersonly[\"tau_buffer\"] = 100000\n",
    "model._hackersonly[\"Ne_loguniform\"] = False\n",
    "model.simulate(nsims=50000, quiet=False, verbose=False, ipyclient=ipyclient)"
   ]
  },
  {
   "cell_type": "code",
   "execution_count": 4,
   "id": "7c7123a6",
   "metadata": {},
   "outputs": [
    {
     "name": "stdout",
     "output_type": "stream",
     "text": [
      "150000\n",
      "Predict() started: 2023-12-14 14:51:53.297413\n",
      "Predict() finished: 2023-12-14 14:52:13.878205\n"
     ]
    },
    {
     "name": "stderr",
     "output_type": "stream",
     "text": [
      "/home/isaac/miniconda3/envs/PTA/lib/python3.10/site-packages/sklearn/model_selection/_validation.py:1050: DataConversionWarning: A column-vector y was passed when a 1d array was expected. Please change the shape of y to (n_samples,), for example using ravel().\n",
      "  estimator.fit(X_train, y_train, **fit_params)\n",
      "/home/isaac/miniconda3/envs/PTA/lib/python3.10/site-packages/sklearn/ensemble/_forest.py:427: FutureWarning: `max_features='auto'` has been deprecated in 1.1 and will be removed in 1.3. To keep the past behaviour, explicitly set `max_features='sqrt'` or remove this parameter as it is also the default value for RandomForestClassifiers and ExtraTreesClassifiers.\n",
      "  warn(\n",
      "/home/isaac/miniconda3/envs/PTA/lib/python3.10/site-packages/sklearn/model_selection/_validation.py:1050: DataConversionWarning: A column-vector y was passed when a 1d array was expected. Please change the shape of y to (n_samples,), for example using ravel().\n",
      "  estimator.fit(X_train, y_train, **fit_params)\n",
      "/home/isaac/miniconda3/envs/PTA/lib/python3.10/site-packages/sklearn/ensemble/_forest.py:427: FutureWarning: `max_features='auto'` has been deprecated in 1.1 and will be removed in 1.3. To keep the past behaviour, explicitly set `max_features='sqrt'` or remove this parameter as it is also the default value for RandomForestClassifiers and ExtraTreesClassifiers.\n",
      "  warn(\n",
      "/home/isaac/miniconda3/envs/PTA/lib/python3.10/site-packages/sklearn/model_selection/_validation.py:1050: DataConversionWarning: A column-vector y was passed when a 1d array was expected. Please change the shape of y to (n_samples,), for example using ravel().\n",
      "  estimator.fit(X_train, y_train, **fit_params)\n",
      "/home/isaac/miniconda3/envs/PTA/lib/python3.10/site-packages/sklearn/ensemble/_forest.py:427: FutureWarning: `max_features='auto'` has been deprecated in 1.1 and will be removed in 1.3. To keep the past behaviour, explicitly set `max_features='sqrt'` or remove this parameter as it is also the default value for RandomForestClassifiers and ExtraTreesClassifiers.\n",
      "  warn(\n"
     ]
    },
    {
     "name": "stdout",
     "output_type": "stream",
     "text": [
      "              precision    recall  f1-score   support\n",
      "\n",
      "           1       0.54      0.58      0.56     49859\n",
      "           2       0.44      0.25      0.32     50080\n",
      "           3       0.55      0.74      0.63     50061\n",
      "\n",
      "    accuracy                           0.53    150000\n",
      "   macro avg       0.51      0.53      0.50    150000\n",
      "weighted avg       0.51      0.53      0.50    150000\n",
      "\n"
     ]
    }
   ],
   "source": [
    "# The 'reference table'\n",
    "sorted_sim_df = pd.read_csv(\"analysis/simulations/Gecko-3pops-recent-SIMOUT.csv\", sep=\" \")\n",
    "\n",
    "# Drop zeta_e == 0 (meaningless)\n",
    "sorted_sim_df = sorted_sim_df[sorted_sim_df.zeta_e > 0]\n",
    "print(len(sorted_sim_df))\n",
    "# This is a input\n",
    "synthetic_community = pd.DataFrame(sorted_sim_df.loc[0]).T.drop(PTA.inference.default_targets, axis=1)\n",
    "\n",
    "## RF parameters from a cv_search process which took like a day, don't want to redo it.\n",
    "rf_params = {'bootstrap': True,\n",
    " 'ccp_alpha': 0.0,\n",
    " 'max_depth': 70,\n",
    " 'max_features': 'auto',\n",
    " 'max_leaf_nodes': None,\n",
    " 'max_samples': None,\n",
    " 'min_impurity_decrease': 0.0,\n",
    " 'min_samples_leaf': 4,\n",
    " 'min_samples_split': 5,\n",
    " 'min_weight_fraction_leaf': 0.0,\n",
    " 'n_estimators': 1400,\n",
    " 'n_jobs': -1,\n",
    " 'oob_score': False,\n",
    " 'random_state': None,\n",
    " 'verbose': 0,\n",
    " 'warm_start': False}\n",
    "rf_sorted_cl = PTA.inference.Classifier(empirical_df=synthetic_community,\n",
    "                                       sims=sorted_sim_df,\n",
    "                                       algorithm=\"rf\")\n",
    "# Set GB model params\n",
    "rf_sorted_cl.set_params(rf_params)\n",
    "# Set the target for classification\n",
    "rf_sorted_cl.set_targets([\"zeta_e\"])\n",
    "# Run quickly to set up the model\n",
    "rf_sorted_cl.predict(select_features=False, param_search=False, quick=True, verbose=True)\n",
    "# Do the cross validation prediction\n",
    "cv_preds = rf_sorted_cl.cross_val_predict(cv=3,\n",
    "                    quick=True,\n",
    "                    verbose=True)"
   ]
  },
  {
   "cell_type": "code",
   "execution_count": 45,
   "id": "d1459735",
   "metadata": {},
   "outputs": [
    {
     "data": {
      "image/png": "[encoded data removed]",
      "text/plain": [
       "<Figure size 576x576 with 1 Axes>"
      ]
     },
     "metadata": {
      "needs_background": "light"
     },
     "output_type": "display_data"
    }
   ],
   "source": [
    "ax = rf_sorted_cl.plot_confusion_matrix(normalize=True)"
   ]
  },
  {
   "cell_type": "code",
   "execution_count": 6,
   "id": "8f1f2864",
   "metadata": {},
   "outputs": [
    {
     "data": {
      "text/html": [
       "<div>\n",
       "<style scoped>\n",
       "    .dataframe tbody tr th:only-of-type {\n",
       "        vertical-align: middle;\n",
       "    }\n",
       "\n",
       "    .dataframe tbody tr th {\n",
       "        vertical-align: top;\n",
       "    }\n",
       "\n",
       "    .dataframe thead th {\n",
       "        text-align: right;\n",
       "    }\n",
       "</style>\n",
       "<table border=\"1\" class=\"dataframe\">\n",
       "  <thead>\n",
       "    <tr style=\"text-align: right;\">\n",
       "      <th></th>\n",
       "      <th>pop0-[[7_1]]</th>\n",
       "      <th>pop0-[[6_2]]</th>\n",
       "      <th>pop0-[[5_3]]</th>\n",
       "      <th>pop0-[[4_4]]</th>\n",
       "      <th>pop1-[[7_1]]</th>\n",
       "      <th>pop1-[[6_2]]</th>\n",
       "      <th>pop1-[[5_3]]</th>\n",
       "      <th>pop1-[[4_4]]</th>\n",
       "      <th>pop2-[[7_1]]</th>\n",
       "      <th>pop2-[[6_2]]</th>\n",
       "      <th>pop2-[[5_3]]</th>\n",
       "      <th>pop2-[[4_4]]</th>\n",
       "    </tr>\n",
       "  </thead>\n",
       "  <tbody>\n",
       "    <tr>\n",
       "      <th>0</th>\n",
       "      <td>0.596941</td>\n",
       "      <td>0.212706</td>\n",
       "      <td>0.158181</td>\n",
       "      <td>0.069528</td>\n",
       "      <td>0.593813</td>\n",
       "      <td>0.203757</td>\n",
       "      <td>0.137826</td>\n",
       "      <td>0.064843</td>\n",
       "      <td>0.581962</td>\n",
       "      <td>0.19033</td>\n",
       "      <td>0.128638</td>\n",
       "      <td>0.061477</td>\n",
       "    </tr>\n",
       "  </tbody>\n",
       "</table>\n",
       "</div>"
      ],
      "text/plain": [
       "   pop0-[[7_1]]  pop0-[[6_2]]  pop0-[[5_3]]  pop0-[[4_4]]  pop1-[[7_1]]  \\\n",
       "0      0.596941      0.212706      0.158181      0.069528      0.593813   \n",
       "\n",
       "   pop1-[[6_2]]  pop1-[[5_3]]  pop1-[[4_4]]  pop2-[[7_1]]  pop2-[[6_2]]  \\\n",
       "0      0.203757      0.137826      0.064843      0.581962       0.19033   \n",
       "\n",
       "   pop2-[[5_3]]  pop2-[[4_4]]  \n",
       "0      0.128638      0.061477  "
      ]
     },
     "metadata": {},
     "output_type": "display_data"
    },
    {
     "name": "stdout",
     "output_type": "stream",
     "text": [
      "Predict() started: 2023-12-14 14:56:17.157419\n"
     ]
    },
    {
     "data": {
      "text/html": [
       "<div>\n",
       "<style scoped>\n",
       "    .dataframe tbody tr th:only-of-type {\n",
       "        vertical-align: middle;\n",
       "    }\n",
       "\n",
       "    .dataframe tbody tr th {\n",
       "        vertical-align: top;\n",
       "    }\n",
       "\n",
       "    .dataframe thead th {\n",
       "        text-align: right;\n",
       "    }\n",
       "</style>\n",
       "<table border=\"1\" class=\"dataframe\">\n",
       "  <thead>\n",
       "    <tr style=\"text-align: right;\">\n",
       "      <th></th>\n",
       "      <th>1</th>\n",
       "      <th>2</th>\n",
       "      <th>3</th>\n",
       "    </tr>\n",
       "  </thead>\n",
       "  <tbody>\n",
       "    <tr>\n",
       "      <th>zeta_e</th>\n",
       "      <td>0.016109</td>\n",
       "      <td>0.061956</td>\n",
       "      <td>0.921935</td>\n",
       "    </tr>\n",
       "  </tbody>\n",
       "</table>\n",
       "</div>"
      ],
      "text/plain": [
       "               1         2         3\n",
       "zeta_e  0.016109  0.061956  0.921935"
      ]
     },
     "metadata": {},
     "output_type": "display_data"
    },
    {
     "name": "stdout",
     "output_type": "stream",
     "text": [
      "CPU times: user 373 ms, sys: 83.4 ms, total: 457 ms\n",
      "Wall time: 409 ms\n"
     ]
    },
    {
     "data": {
      "text/plain": [
       "<BarContainer object of 3 artists>"
      ]
     },
     "execution_count": 6,
     "metadata": {},
     "output_type": "execute_result"
    },
    {
     "data": {
      "image/png": "[encoded data removed]",
      "text/plain": [
       "<Figure size 432x288 with 1 Axes>"
      ]
     },
     "metadata": {
      "needs_background": "light"
     },
     "output_type": "display_data"
    }
   ],
   "source": [
    "%%time\n",
    "# Load msfs and reshape it into a format the ML stuff expects\n",
    "sorted_expanding_msfs = pd.read_csv(\"/home/isaac/proj/Islands2030/PTA-GalapagosGeckos/analysis/msfs/recent-proj8-sort-props.msfs\", index_col=0)\n",
    "sorted_expanding_msfs = pd.DataFrame(sorted_expanding_msfs.to_numpy().ravel(order=\"F\"), index=synthetic_community.columns).T\n",
    "display(sorted_expanding_msfs)\n",
    "\n",
    "rf_sorted_cl.set_data(sorted_expanding_msfs)\n",
    "rf_class_est = rf_sorted_cl.predict(select_features=False,\\\n",
    "                                    param_search=False,\\\n",
    "                                    quick=True,\\\n",
    "                                    verbose=True)\n",
    "#axs = gb_sorted_cl.plot_feature_importance()\n",
    "display(rf_class_est[1])\n",
    "plt.bar(range(1, 4), rf_class_est[1].values[0])"
   ]
  },
  {
   "cell_type": "code",
   "execution_count": 7,
   "id": "d50010e6",
   "metadata": {},
   "outputs": [
    {
     "name": "stdout",
     "output_type": "stream",
     "text": [
      "Removed invariant targets. Retained: ['t_s', 'taus_mean']\n",
      "Predict() started: 2023-12-14 14:57:49.435812\n",
      "Predict() finished: 2023-12-14 14:57:58.864652\n"
     ]
    },
    {
     "name": "stderr",
     "output_type": "stream",
     "text": [
      "/home/isaac/miniconda3/envs/PTA/lib/python3.10/site-packages/sklearn/ensemble/_forest.py:416: FutureWarning: `max_features='auto'` has been deprecated in 1.1 and will be removed in 1.3. To keep the past behaviour, explicitly set `max_features=1.0` or remove this parameter as it is also the default value for RandomForestRegressors and ExtraTreesRegressors.\n",
      "  warn(\n",
      "/home/isaac/miniconda3/envs/PTA/lib/python3.10/site-packages/sklearn/ensemble/_forest.py:416: FutureWarning: `max_features='auto'` has been deprecated in 1.1 and will be removed in 1.3. To keep the past behaviour, explicitly set `max_features=1.0` or remove this parameter as it is also the default value for RandomForestRegressors and ExtraTreesRegressors.\n",
      "  warn(\n",
      "/home/isaac/miniconda3/envs/PTA/lib/python3.10/site-packages/sklearn/ensemble/_forest.py:416: FutureWarning: `max_features='auto'` has been deprecated in 1.1 and will be removed in 1.3. To keep the past behaviour, explicitly set `max_features=1.0` or remove this parameter as it is also the default value for RandomForestRegressors and ExtraTreesRegressors.\n",
      "  warn(\n",
      "/home/isaac/miniconda3/envs/PTA/lib/python3.10/site-packages/sklearn/ensemble/_forest.py:416: FutureWarning: `max_features='auto'` has been deprecated in 1.1 and will be removed in 1.3. To keep the past behaviour, explicitly set `max_features=1.0` or remove this parameter as it is also the default value for RandomForestRegressors and ExtraTreesRegressors.\n",
      "  warn(\n",
      "/home/isaac/miniconda3/envs/PTA/lib/python3.10/site-packages/sklearn/ensemble/_forest.py:416: FutureWarning: `max_features='auto'` has been deprecated in 1.1 and will be removed in 1.3. To keep the past behaviour, explicitly set `max_features=1.0` or remove this parameter as it is also the default value for RandomForestRegressors and ExtraTreesRegressors.\n",
      "  warn(\n"
     ]
    },
    {
     "name": "stdout",
     "output_type": "stream",
     "text": [
      "                    MAE        RMSE    vscore       R2\n",
      "t_s        28649.464981  156.593998  0.813241  0.81324\n",
      "taus_mean  28649.464981  156.593998  0.813241  0.81324\n",
      "taus_std       0.000000    0.000000  1.000000  1.00000\n",
      "CPU times: user 7min 59s, sys: 23.1 s, total: 8min 22s\n",
      "Wall time: 54.6 s\n"
     ]
    },
    {
     "data": {
      "image/png": "[encoded data removed]",
      "text/plain": [
       "<Figure size 1440x720 with 8 Axes>"
      ]
     },
     "metadata": {
      "needs_background": "light"
     },
     "output_type": "display_data"
    }
   ],
   "source": [
    "%%time\n",
    "inferred_zeta_e = 3\n",
    "\n",
    "pruned_sorted_df = sorted_sim_df[sorted_sim_df[\"zeta_e\"] == inferred_zeta_e]\n",
    "\n",
    "rf_rgr = PTA.inference.Regressor(empirical_df=synthetic_community,\\\n",
    "                                sims=pruned_sorted_df,\\\n",
    "                                algorithm=\"rf\",\\\n",
    "                                verbose=True)\n",
    "rf_rgr.set_params(rf_params)\n",
    "rf_rgr.set_targets([\"t_s\", \"taus_mean\", \"taus_std\"])\n",
    "rf_rgr.predict(select_features=False,\\\n",
    "            param_search=False,\\\n",
    "            quick=False,\\\n",
    "            verbose=True)\n",
    "rg_rgr_preds = rf_rgr.cross_val_predict(verbose=True)\n",
    "ax = rf_rgr.plot_cv_predictions(figsize=(20,10), figdims=(2,4))"
   ]
  },
  {
   "cell_type": "code",
   "execution_count": 8,
   "id": "79929beb",
   "metadata": {},
   "outputs": [
    {
     "data": {
      "text/html": [
       "<div>\n",
       "<style scoped>\n",
       "    .dataframe tbody tr th:only-of-type {\n",
       "        vertical-align: middle;\n",
       "    }\n",
       "\n",
       "    .dataframe tbody tr th {\n",
       "        vertical-align: top;\n",
       "    }\n",
       "\n",
       "    .dataframe thead th {\n",
       "        text-align: right;\n",
       "    }\n",
       "</style>\n",
       "<table border=\"1\" class=\"dataframe\">\n",
       "  <thead>\n",
       "    <tr style=\"text-align: right;\">\n",
       "      <th></th>\n",
       "      <th>t_s</th>\n",
       "      <th>taus_mean</th>\n",
       "      <th>taus_std</th>\n",
       "    </tr>\n",
       "  </thead>\n",
       "  <tbody>\n",
       "    <tr>\n",
       "      <th>estimate</th>\n",
       "      <td>37659.036089</td>\n",
       "      <td>37659.036089</td>\n",
       "      <td>0.0</td>\n",
       "    </tr>\n",
       "  </tbody>\n",
       "</table>\n",
       "</div>"
      ],
      "text/plain": [
       "                   t_s     taus_mean  taus_std\n",
       "estimate  37659.036089  37659.036089       0.0"
      ]
     },
     "execution_count": 8,
     "metadata": {},
     "output_type": "execute_result"
    }
   ],
   "source": [
    "rf_param_est = rf_rgr.predict(sorted_expanding_msfs)\n",
    "rf_param_est"
   ]
  },
  {
   "cell_type": "code",
   "execution_count": 9,
   "id": "39ded2a5",
   "metadata": {},
   "outputs": [
    {
     "data": {
      "text/html": [
       "<div>\n",
       "<style scoped>\n",
       "    .dataframe tbody tr th:only-of-type {\n",
       "        vertical-align: middle;\n",
       "    }\n",
       "\n",
       "    .dataframe tbody tr th {\n",
       "        vertical-align: top;\n",
       "    }\n",
       "\n",
       "    .dataframe thead th {\n",
       "        text-align: right;\n",
       "    }\n",
       "</style>\n",
       "<table border=\"1\" class=\"dataframe\">\n",
       "  <thead>\n",
       "    <tr style=\"text-align: right;\">\n",
       "      <th></th>\n",
       "      <th>t_s</th>\n",
       "      <th>taus_mean</th>\n",
       "      <th>taus_std</th>\n",
       "    </tr>\n",
       "  </thead>\n",
       "  <tbody>\n",
       "    <tr>\n",
       "      <th>0</th>\n",
       "      <td>18999.583333</td>\n",
       "      <td>18999.583333</td>\n",
       "      <td>0.0</td>\n",
       "    </tr>\n",
       "    <tr>\n",
       "      <th>1</th>\n",
       "      <td>37659.036089</td>\n",
       "      <td>37659.036089</td>\n",
       "      <td>0.0</td>\n",
       "    </tr>\n",
       "    <tr>\n",
       "      <th>2</th>\n",
       "      <td>38751.875000</td>\n",
       "      <td>38751.875000</td>\n",
       "      <td>0.0</td>\n",
       "    </tr>\n",
       "  </tbody>\n",
       "</table>\n",
       "</div>"
      ],
      "text/plain": [
       "            t_s     taus_mean  taus_std\n",
       "0  18999.583333  18999.583333       0.0\n",
       "1  37659.036089  37659.036089       0.0\n",
       "2  38751.875000  38751.875000       0.0"
      ]
     },
     "execution_count": 9,
     "metadata": {},
     "output_type": "execute_result"
    }
   ],
   "source": [
    "import numpy as np\n",
    "def pred_ints(model, X, percentile=95):\n",
    "    preds = []\n",
    "    err_down = []\n",
    "    err_up = []\n",
    "    for pred in model.best_model.estimators_:\n",
    "        preds.append(pred.predict(X))\n",
    "        err_down = np.percentile(preds, (100 - percentile) / 2. , axis=0)[0]\n",
    "        err_up = np.percentile(preds, 100 - (100 - percentile) / 2., axis=0)[0]\n",
    "    return err_down, err_up\n",
    "\n",
    "err_down, err_up = pred_ints(rf_rgr, sorted_expanding_msfs)\n",
    "pred_intervals = pd.DataFrame(np.array([err_down, rf_param_est.values[0], err_up]), columns=rf_param_est.columns)\n",
    "pred_intervals"
   ]
  },
  {
   "cell_type": "code",
   "execution_count": 47,
   "id": "db064aab",
   "metadata": {},
   "outputs": [
    {
     "data": {
      "text/plain": [
       "<matplotlib.collections.PathCollection at 0x7f8e4eba1510>"
      ]
     },
     "execution_count": 47,
     "metadata": {},
     "output_type": "execute_result"
    },
    {
     "data": {
      "image/png": "[encoded data removed]",
      "text/plain": [
       "<Figure size 360x360 with 1 Axes>"
      ]
     },
     "metadata": {
      "needs_background": "light"
     },
     "output_type": "display_data"
    }
   ],
   "source": [
    "from sklearn.decomposition import PCA\n",
    "\n",
    "estimated_zeta = 3\n",
    "\n",
    "dat = sorted_sim_df[sorted_sim_df[\"zeta_e\"] == estimated_zeta].iloc[:5000, 23:]\n",
    "dat = pd.concat([sorted_expanding_msfs, dat])\n",
    "\n",
    "pca = PCA(n_components=2)\n",
    "pcs = pca.fit_transform(dat)\n",
    "\n",
    "fig, ax = plt.subplots(figsize=(5, 5))\n",
    "ax.scatter(pcs[:, 0], pcs[:, 1], c='black')\n",
    "## Plot the observed ss in red\n",
    "ax.scatter(pcs[:, 0][0], pcs[:, 1][0], c='r')"
   ]
  },
  {
   "cell_type": "code",
   "execution_count": 48,
   "id": "da17c534",
   "metadata": {},
   "outputs": [
    {
     "data": {
      "text/html": [
       "<div>\n",
       "<style scoped>\n",
       "    .dataframe tbody tr th:only-of-type {\n",
       "        vertical-align: middle;\n",
       "    }\n",
       "\n",
       "    .dataframe tbody tr th {\n",
       "        vertical-align: top;\n",
       "    }\n",
       "\n",
       "    .dataframe thead th {\n",
       "        text-align: right;\n",
       "    }\n",
       "</style>\n",
       "<table border=\"1\" class=\"dataframe\">\n",
       "  <thead>\n",
       "    <tr style=\"text-align: right;\">\n",
       "      <th></th>\n",
       "      <th>pop0-[[7_1]]</th>\n",
       "      <th>pop0-[[6_2]]</th>\n",
       "      <th>pop0-[[5_3]]</th>\n",
       "      <th>pop0-[[4_4]]</th>\n",
       "      <th>pop1-[[7_1]]</th>\n",
       "      <th>pop1-[[6_2]]</th>\n",
       "      <th>pop1-[[5_3]]</th>\n",
       "      <th>pop1-[[4_4]]</th>\n",
       "      <th>pop2-[[7_1]]</th>\n",
       "      <th>pop2-[[6_2]]</th>\n",
       "      <th>pop2-[[5_3]]</th>\n",
       "      <th>pop2-[[4_4]]</th>\n",
       "    </tr>\n",
       "  </thead>\n",
       "  <tbody>\n",
       "    <tr>\n",
       "      <th>1</th>\n",
       "      <td>0.689</td>\n",
       "      <td>0.208</td>\n",
       "      <td>0.123</td>\n",
       "      <td>0.053</td>\n",
       "      <td>0.672</td>\n",
       "      <td>0.168</td>\n",
       "      <td>0.110</td>\n",
       "      <td>0.046</td>\n",
       "      <td>0.633</td>\n",
       "      <td>0.165</td>\n",
       "      <td>0.097</td>\n",
       "      <td>0.035</td>\n",
       "    </tr>\n",
       "    <tr>\n",
       "      <th>5</th>\n",
       "      <td>0.687</td>\n",
       "      <td>0.180</td>\n",
       "      <td>0.108</td>\n",
       "      <td>0.054</td>\n",
       "      <td>0.671</td>\n",
       "      <td>0.168</td>\n",
       "      <td>0.108</td>\n",
       "      <td>0.054</td>\n",
       "      <td>0.666</td>\n",
       "      <td>0.159</td>\n",
       "      <td>0.100</td>\n",
       "      <td>0.046</td>\n",
       "    </tr>\n",
       "    <tr>\n",
       "      <th>6</th>\n",
       "      <td>0.615</td>\n",
       "      <td>0.225</td>\n",
       "      <td>0.192</td>\n",
       "      <td>0.079</td>\n",
       "      <td>0.560</td>\n",
       "      <td>0.192</td>\n",
       "      <td>0.160</td>\n",
       "      <td>0.069</td>\n",
       "      <td>0.537</td>\n",
       "      <td>0.179</td>\n",
       "      <td>0.138</td>\n",
       "      <td>0.055</td>\n",
       "    </tr>\n",
       "    <tr>\n",
       "      <th>14</th>\n",
       "      <td>0.669</td>\n",
       "      <td>0.204</td>\n",
       "      <td>0.108</td>\n",
       "      <td>0.062</td>\n",
       "      <td>0.647</td>\n",
       "      <td>0.191</td>\n",
       "      <td>0.101</td>\n",
       "      <td>0.051</td>\n",
       "      <td>0.646</td>\n",
       "      <td>0.184</td>\n",
       "      <td>0.098</td>\n",
       "      <td>0.039</td>\n",
       "    </tr>\n",
       "    <tr>\n",
       "      <th>25</th>\n",
       "      <td>0.680</td>\n",
       "      <td>0.177</td>\n",
       "      <td>0.136</td>\n",
       "      <td>0.053</td>\n",
       "      <td>0.658</td>\n",
       "      <td>0.169</td>\n",
       "      <td>0.112</td>\n",
       "      <td>0.050</td>\n",
       "      <td>0.651</td>\n",
       "      <td>0.162</td>\n",
       "      <td>0.109</td>\n",
       "      <td>0.044</td>\n",
       "    </tr>\n",
       "    <tr>\n",
       "      <th>...</th>\n",
       "      <td>...</td>\n",
       "      <td>...</td>\n",
       "      <td>...</td>\n",
       "      <td>...</td>\n",
       "      <td>...</td>\n",
       "      <td>...</td>\n",
       "      <td>...</td>\n",
       "      <td>...</td>\n",
       "      <td>...</td>\n",
       "      <td>...</td>\n",
       "      <td>...</td>\n",
       "      <td>...</td>\n",
       "    </tr>\n",
       "    <tr>\n",
       "      <th>2928</th>\n",
       "      <td>0.632</td>\n",
       "      <td>0.195</td>\n",
       "      <td>0.132</td>\n",
       "      <td>0.064</td>\n",
       "      <td>0.625</td>\n",
       "      <td>0.180</td>\n",
       "      <td>0.131</td>\n",
       "      <td>0.059</td>\n",
       "      <td>0.617</td>\n",
       "      <td>0.179</td>\n",
       "      <td>0.129</td>\n",
       "      <td>0.057</td>\n",
       "    </tr>\n",
       "    <tr>\n",
       "      <th>2930</th>\n",
       "      <td>0.687</td>\n",
       "      <td>0.205</td>\n",
       "      <td>0.124</td>\n",
       "      <td>0.065</td>\n",
       "      <td>0.677</td>\n",
       "      <td>0.168</td>\n",
       "      <td>0.097</td>\n",
       "      <td>0.060</td>\n",
       "      <td>0.642</td>\n",
       "      <td>0.156</td>\n",
       "      <td>0.083</td>\n",
       "      <td>0.034</td>\n",
       "    </tr>\n",
       "    <tr>\n",
       "      <th>2934</th>\n",
       "      <td>0.691</td>\n",
       "      <td>0.207</td>\n",
       "      <td>0.102</td>\n",
       "      <td>0.062</td>\n",
       "      <td>0.648</td>\n",
       "      <td>0.199</td>\n",
       "      <td>0.102</td>\n",
       "      <td>0.047</td>\n",
       "      <td>0.647</td>\n",
       "      <td>0.161</td>\n",
       "      <td>0.092</td>\n",
       "      <td>0.043</td>\n",
       "    </tr>\n",
       "    <tr>\n",
       "      <th>2939</th>\n",
       "      <td>0.677</td>\n",
       "      <td>0.195</td>\n",
       "      <td>0.123</td>\n",
       "      <td>0.052</td>\n",
       "      <td>0.674</td>\n",
       "      <td>0.167</td>\n",
       "      <td>0.118</td>\n",
       "      <td>0.047</td>\n",
       "      <td>0.651</td>\n",
       "      <td>0.153</td>\n",
       "      <td>0.113</td>\n",
       "      <td>0.031</td>\n",
       "    </tr>\n",
       "    <tr>\n",
       "      <th>2940</th>\n",
       "      <td>0.722</td>\n",
       "      <td>0.195</td>\n",
       "      <td>0.120</td>\n",
       "      <td>0.054</td>\n",
       "      <td>0.649</td>\n",
       "      <td>0.178</td>\n",
       "      <td>0.119</td>\n",
       "      <td>0.047</td>\n",
       "      <td>0.637</td>\n",
       "      <td>0.151</td>\n",
       "      <td>0.099</td>\n",
       "      <td>0.028</td>\n",
       "    </tr>\n",
       "  </tbody>\n",
       "</table>\n",
       "<p>1000 rows × 12 columns</p>\n",
       "</div>"
      ],
      "text/plain": [
       "      pop0-[[7_1]]  pop0-[[6_2]]  pop0-[[5_3]]  pop0-[[4_4]]  pop1-[[7_1]]  \\\n",
       "1            0.689         0.208         0.123         0.053         0.672   \n",
       "5            0.687         0.180         0.108         0.054         0.671   \n",
       "6            0.615         0.225         0.192         0.079         0.560   \n",
       "14           0.669         0.204         0.108         0.062         0.647   \n",
       "25           0.680         0.177         0.136         0.053         0.658   \n",
       "...            ...           ...           ...           ...           ...   \n",
       "2928         0.632         0.195         0.132         0.064         0.625   \n",
       "2930         0.687         0.205         0.124         0.065         0.677   \n",
       "2934         0.691         0.207         0.102         0.062         0.648   \n",
       "2939         0.677         0.195         0.123         0.052         0.674   \n",
       "2940         0.722         0.195         0.120         0.054         0.649   \n",
       "\n",
       "      pop1-[[6_2]]  pop1-[[5_3]]  pop1-[[4_4]]  pop2-[[7_1]]  pop2-[[6_2]]  \\\n",
       "1            0.168         0.110         0.046         0.633         0.165   \n",
       "5            0.168         0.108         0.054         0.666         0.159   \n",
       "6            0.192         0.160         0.069         0.537         0.179   \n",
       "14           0.191         0.101         0.051         0.646         0.184   \n",
       "25           0.169         0.112         0.050         0.651         0.162   \n",
       "...            ...           ...           ...           ...           ...   \n",
       "2928         0.180         0.131         0.059         0.617         0.179   \n",
       "2930         0.168         0.097         0.060         0.642         0.156   \n",
       "2934         0.199         0.102         0.047         0.647         0.161   \n",
       "2939         0.167         0.118         0.047         0.651         0.153   \n",
       "2940         0.178         0.119         0.047         0.637         0.151   \n",
       "\n",
       "      pop2-[[5_3]]  pop2-[[4_4]]  \n",
       "1            0.097         0.035  \n",
       "5            0.100         0.046  \n",
       "6            0.138         0.055  \n",
       "14           0.098         0.039  \n",
       "25           0.109         0.044  \n",
       "...            ...           ...  \n",
       "2928         0.129         0.057  \n",
       "2930         0.083         0.034  \n",
       "2934         0.092         0.043  \n",
       "2939         0.113         0.031  \n",
       "2940         0.099         0.028  \n",
       "\n",
       "[1000 rows x 12 columns]"
      ]
     },
     "execution_count": 48,
     "metadata": {},
     "output_type": "execute_result"
    }
   ],
   "source": [
    "dat = sorted_sim_df[sorted_sim_df[\"zeta_e\"] == 3].iloc[:1000, 23:]\n",
    "dat"
   ]
  },
  {
   "cell_type": "markdown",
   "id": "2d9a7714",
   "metadata": {},
   "source": [
    "## Trash"
   ]
  }
 ],
 "metadata": {
  "kernelspec": {
   "display_name": "Python 3 (ipykernel)",
   "language": "python",
   "name": "python3"
  },
  "language_info": {
   "codemirror_mode": {
    "name": "ipython",
    "version": 3
   },
   "file_extension": ".py",
   "mimetype": "text/x-python",
   "name": "python",
   "nbconvert_exporter": "python",
   "pygments_lexer": "ipython3",
   "version": "3.10.4"
  }
 },
 "nbformat": 4,
 "nbformat_minor": 5
}
